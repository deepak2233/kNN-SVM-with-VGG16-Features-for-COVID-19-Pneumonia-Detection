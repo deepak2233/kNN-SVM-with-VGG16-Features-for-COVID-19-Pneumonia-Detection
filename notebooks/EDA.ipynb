{
 "cells": [
  {
   "cell_type": "markdown",
   "metadata": {},
   "source": [
    "# Image EDA for Medical Dataset"
   ]
  },
  {
   "cell_type": "code",
   "execution_count": null,
   "metadata": {},
   "outputs": [],
   "source": [
    "# Import necessary libraries\n",
    "import numpy as np\n",
    "import matplotlib.pyplot as plt\n",
    "from PIL import Image\n",
    "from sklearn.decomposition import PCA\n",
    "from skimage import filters, feature, color"
   ]
  },
  {
   "cell_type": "markdown",
   "metadata": {},
   "source": [
    "### Load and Display the Image"
   ]
  },
  {
   "cell_type": "code",
   "execution_count": null,
   "metadata": {},
   "outputs": [],
   "source": [
    "# Load image\n",
    "img_path = '/path_to_your_image/image.png'  # Update the path\n",
    "img = Image.open(img_path).convert('L')  # Convert to grayscale\n",
    "img_array = np.array(img)\n",
    "\n",
    "# Display image\n",
    "plt.figure(figsize=(6, 6))\n",
    "plt.title('Original Image')\n",
    "plt.imshow(img_array, cmap='gray')\n",
    "plt.axis('off')\n",
    "plt.show()"
   ]
  },
  {
   "cell_type": "markdown",
   "metadata": {},
   "source": [
    "### Standardize the Image (Mean centering)"
   ]
  },
  {
   "cell_type": "code",
   "execution_count": null,
   "metadata": {},
   "outputs": [],
   "source": [
    "# Mean centering the image\n",
    "img_mean_centered = img_array - np.mean(img_array)\n",
    "\n",
    "# Display mean-centered image\n",
    "plt.figure(figsize=(6, 6))\n",
    "plt.title('Mean-Centered Image')\n",
    "plt.imshow(img_mean_centered, cmap='gray')\n",
    "plt.axis('off')\n",
    "plt.show()"
   ]
  },
  {
   "cell_type": "markdown",
   "metadata": {},
   "source": [
    "### Compute Eigen Images using PCA"
   ]
  },
  {
   "cell_type": "code",
   "execution_count": null,
   "metadata": {},
   "outputs": [],
   "source": [
    "# Reshape the image array\n",
    "img_reshaped = img_array.flatten().reshape(-1, 1)\n",
    "\n",
    "# Apply PCA\n",
    "pca = PCA(n_components=5)  # Choose 5 principal components\n",
    "pca.fit(img_reshaped)\n",
    "eigen_images = pca.components_.reshape((5, img_array.shape[0], img_array.shape[1]))\n",
    "\n",
    "# Display the first 5 eigen images\n",
    "fig, ax = plt.subplots(1, 5, figsize=(15, 15))\n",
    "for i in range(5):\n",
    "    ax[i].imshow(eigen_images[i], cmap='gray')\n",
    "    ax[i].set_title(f'Eigen Image {i+1}')\n",
    "    ax[i].axis('off')\n",
    "plt.show()"
   ]
  },
  {
   "cell_type": "markdown",
   "metadata": {},
   "source": [
    "### Sobel Edge Detection"
   ]
  },
  {
   "cell_type": "code",
   "execution_count": null,
   "metadata": {},
   "outputs": [],
   "source": [
    "# Apply Sobel filter for edge detection\n",
    "edges = filters.sobel(img_array)\n",
    "\n",
    "# Display the edges\n",
    "plt.figure(figsize=(6, 6))\n",
    "plt.title('Sobel Edge Detection')\n",
    "plt.imshow(edges, cmap='gray')\n",
    "plt.axis('off')\n",
    "plt.show()"
   ]
  },
  {
   "cell_type": "markdown",
   "metadata": {},
   "source": [
    "### Feature Extraction using Canny"
   ]
  },
  {
   "cell_type": "code",
   "execution_count": null,
   "metadata": {},
   "outputs": [],
   "source": [
    "# Apply Canny edge detection\n",
    "canny_edges = feature.canny(img_array, sigma=2)\n",
    "\n",
    "# Display Canny edges\n",
    "plt.figure(figsize=(6, 6))\n",
    "plt.title('Canny Edge Detection')\n",
    "plt.imshow(canny_edges, cmap='gray')\n",
    "plt.axis('off')\n",
    "plt.show()"
   ]
  },
  {
   "cell_type": "markdown",
   "metadata": {},
   "source": [
    "### Conclusion"
   ]
  },
  {
   "cell_type": "markdown",
   "metadata": {},
   "source": [
    "We explored the image by visualizing the original, mean-centered image, and conducted PCA to extract eigen images. Additionally, edge detection methods such as Sobel and Canny were applied."
   ]
  }
 ],
 "metadata": {
  "kernelspec": {
   "display_name": "Python 3",
   "language": "python",
   "name": "python3"
  },
  "language_info": {
   "name": "python",
   "version": "3.8.5"
  }
 },
 "nbformat": 4,
 "nbformat_minor": 4
}
