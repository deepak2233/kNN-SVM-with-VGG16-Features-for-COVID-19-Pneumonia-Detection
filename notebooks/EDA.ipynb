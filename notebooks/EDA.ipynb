{
 "cells": [
  {
   "cell_type": "markdown",
   "metadata": {},
   "source": [
    "# Exploratory Data Analysis (EDA)\n",
    "## COVID-19 Pneumonia Detection Dataset\n",
    "\n",
    "This notebook performs EDA on the dataset to gain insights, including data distribution, sample images, basic statistics, and pixel value distribution."
   ]
  },
  {
   "cell_type": "code",
   "execution_count": null,
   "metadata": {},
   "outputs": [],
   "source": [
    "import os\n",
    "import numpy as np\n",
    "import matplotlib.pyplot as plt\n",
    "from tensorflow.keras.preprocessing.image import img_to_array, load_img\n",
    "from collections import Counter"
   ]
  },
  {
   "cell_type": "markdown",
   "metadata": {},
   "source": [
    "### Function to Load Image Data"
   ]
  },
  {
   "cell_type": "code",
   "execution_count": null,
   "metadata": {},
   "outputs": [],
   "source": [
    "def load_image_data(data_dir, img_size=(224, 224)):\n",
    "    images = []\n",
    "    labels = []\n",
    "    label_names = ['Normal', 'COVID', 'Pneumonia']\n",
    "\n",
    "    for label in label_names:\n",
    "        path = os.path.join(data_dir, label)\n",
    "        for img_name in os.listdir(path):\n",
    "            img_path = os.path.join(path, img_name)\n",
    "            img = load_img(img_path, target_size=img_size)\n",
    "            img = img_to_array(img)\n",
    "            images.append(img)\n",
    "            labels.append(label)\n",
    "    \n",
    "    images = np.array(images)\n",
    "    labels = np.array(labels)\n",
    "    return images, labels"
   ]
  },
  {
   "cell_type": "markdown",
   "metadata": {},
   "source": [
    "### Load Training Data"
   ]
  },
  {
   "cell_type": "code",
   "execution_count": null,
   "metadata": {},
   "outputs": [],
   "source": [
    "data_dir = '../data/train/'  # Update path as necessary\n",
    "X_train, y_train = load_image_data(data_dir)"
   ]
  },
  {
   "cell_type": "markdown",
   "metadata": {},
   "source": [
    "### 1. Visualize Data Distribution"
   ]
  },
  {
   "cell_type": "code",
   "execution_count": null,
   "metadata": {},
   "outputs": [],
   "source": [
    "def visualize_data_distribution(labels):\n",
    "    label_counts = Counter(labels)\n",
    "    plt.figure(figsize=(8, 6))\n",
    "    plt.bar(label_counts.keys(), label_counts.values(), color=['blue', 'red', 'green'])\n",
    "    plt.title('Class Distribution of COVID-19 Pneumonia Dataset')\n",
    "    plt.ylabel('Number of Images')\n",
    "    plt.xlabel('Class Labels')\n",
    "    plt.show()"
   ]
  },
  {
   "cell_type": "code",
   "execution_count": null,
   "metadata": {},
   "outputs": [],
   "source": [
    "# Visualize label distribution\n",
    "visualize_data_distribution(y_train)"
   ]
  },
  {
   "cell_type": "markdown",
   "metadata": {},
   "source": [
    "### 2. Display Sample Images"
   ]
  },
  {
   "cell_type": "code",
   "execution_count": null,
   "metadata": {},
   "outputs": [],
   "source": [
    "def plot_sample_images(images, labels, label_names=['Normal', 'COVID', 'Pneumonia']):\n",
    "    plt.figure(figsize=(10, 10))\n",
    "    \n",
    "    for i, label in enumerate(label_names):\n",
    "        label_indices = np.where(labels == label)[0]\n",
    "        selected_idx = np.random.choice(label_indices, 1, replace=False)[0]\n",
    "        plt.subplot(1, len(label_names), i+1)\n",
    "        plt.imshow(images[selected_idx].astype('uint8'))\n",
    "        plt.title(label)\n",
    "        plt.axis('off')\n",
    "    \n",
    "    plt.tight_layout()\n",
    "    plt.show()"
   ]
  },
  {
   "cell_type": "code",
   "execution_count": null,
   "metadata": {},
   "outputs": [],
   "source": [
    "# Display sample images for each class\n",
    "plot_sample_images(X_train, y_train)"
   ]
  },
  {
   "cell_type": "markdown",
   "metadata": {},
   "source": [
    "### 3. Calculate Basic Image Statistics"
   ]
  },
  {
   "cell_type": "code",
   "execution_count": null,
   "metadata": {},
   "outputs": [],
   "source": [
    "def calculate_image_stats(images):\n",
    "    print(f\"Total number of images: {images.shape[0]}\")\n",
    "    print(f\"Image dimensions: {images.shape[1:]}\")\n",
    "\n",
    "    mean_image = np.mean(images, axis=0)\n",
    "    std_image = np.std(images, axis=0)\n",
    "    \n",
    "    print(f\"Mean pixel value: {mean_image.mean():.2f}\")\n",
    "    print(f\"Standard deviation of pixel values: {std_image.mean():.2f}\")\n",
    "    \n",
    "    # Display the average image\n",
    "    plt.figure(figsize=(6, 6))\n",
    "    plt.imshow(mean_image.astype('uint8'))\n",
    "    plt.title('Average Image (Mean Pixel Value)')\n",
    "    plt.axis('off')\n",
    "    plt.show()"
   ]
  },
  {
   "cell_type": "code",
   "execution_count": null,
   "metadata": {},
   "outputs": [],
   "source": [
    "# Calculate basic statistics for the images\n",
    "calculate_image_stats(X_train)"
   ]
  },
  {
   "cell_type": "markdown",
   "metadata": {},
   "source": [
    "### 4. Plot Pixel Value Distribution"
   ]
  },
  {
   "cell_type": "code",
   "execution_count": null,
   "metadata": {},
   "outputs": [],
   "source": [
    "def plot_pixel_distribution(images, num_bins=50):\n",
    "    plt.figure(figsize=(10, 6))\n",
    "    flattened_images = images.flatten()\n",
    "    plt.hist(flattened_images, bins=num_bins, color='purple', alpha=0.75)\n",
    "    plt.title('Distribution of Pixel Values')\n",
    "    plt.xlabel('Pixel Intensity')\n",
    "    plt.ylabel('Frequency')\n",
    "    plt.show()"
   ]
  },
  {
   "cell_type": "code",
   "execution_count": null,
   "metadata": {},
   "outputs": [],
   "source": [
    "# Plot pixel value distribution\n",
    "plot_pixel_distribution(X_train)"
   ]
  }
 ],
 "metadata": {
  "kernelspec": {
   "display_name": "Python 3",
   "language": "python",
   "name": "python3"
  },
  "language_info": {
   "name": "python",
   "version": "3.8.5"
  }
 },
 "nbformat": 4,
 "nbformat_minor": 4
}

